{
 "cells": [
  {
   "cell_type": "code",
   "execution_count": 1,
   "metadata": {},
   "outputs": [],
   "source": [
    "import boto3\n",
    "import numpy as np\n",
    "import pandas as pd\n",
    "import csv\n",
    "import matplotlib.pyplot as plt\n",
    "from sklearn.ensemble import RandomForestClassifier\n",
    "from sklearn.model_selection import train_test_split"
   ]
  },
  {
   "cell_type": "code",
   "execution_count": 157,
   "metadata": {},
   "outputs": [],
   "source": [
    "from sklearn import  linear_model\n",
    "from sklearn.linear_model import LogisticRegression\n",
    "from sklearn.metrics import mean_squared_error,mean_absolute_error, r2_score,f1_score\n",
    "from sklearn.naive_bayes import GaussianNB"
   ]
  },
  {
   "cell_type": "code",
   "execution_count": 107,
   "metadata": {},
   "outputs": [],
   "source": [
    "def acc(predict,y_test):\n",
    "    count=0\n",
    "    for i in range (len(predict)):\n",
    "        if predict[i]==y_test.iloc[i]:\n",
    "            count+=1\n",
    "\n",
    "    return(count/len(predict))"
   ]
  },
  {
   "cell_type": "code",
   "execution_count": 67,
   "metadata": {},
   "outputs": [],
   "source": [
    "def norma(data):\n",
    "    data['time'] = (data['time'] - data['time'].mean())/data['time'].std(ddof=0)\n",
    "    data['co2'] = (data['co2'] - data['co2'].mean())/data['co2'].std(ddof=0)\n",
    "    data['delay'] = (data['delay'] - data['delay'].mean())/data['delay'].std(ddof=0)\n",
    "    data['m1'] = (data['m1'] - data['m1'].mean())/data['m1'].std(ddof=0)\n",
    "    data['m2'] = (data['m2'] - data['m2'].mean())/data['m2'].std(ddof=0)\n",
    "    data['m3'] = (data['m3'] - data['m3'].mean())/data['m3'].std(ddof=0)\n",
    "    data['temp'] = (data['temp'] - data['temp'].mean())/data['temp'].std(ddof=0)"
   ]
  },
  {
   "cell_type": "code",
   "execution_count": 9,
   "metadata": {},
   "outputs": [
    {
     "data": {
      "text/plain": [
       "\"\\nfor entry in item:\\n    print (entry['time'])\\n    \\n\""
      ]
     },
     "execution_count": 9,
     "metadata": {},
     "output_type": "execute_result"
    }
   ],
   "source": [
    "######it's key of ys3152\n",
    "dynamodb = boto3.resource('dynamodb',\n",
    "    aws_access_key_id='',\n",
    "    aws_secret_access_key='',\n",
    "    region_name='us-east-1')\n",
    "table = dynamodb.Table('iotfinal')\n",
    "\n",
    "item=table.scan()['Items']\n",
    "\n",
    "#print(item['Items'][0]['temp'])\n",
    "'''\n",
    "for entry in item:\n",
    "    print (entry['time'])\n",
    "    \n",
    "'''"
   ]
  },
  {
   "cell_type": "code",
   "execution_count": 10,
   "metadata": {},
   "outputs": [],
   "source": [
    "\n",
    "\n",
    "with open('data.csv', mode='w') as file:\n",
    "    writer = csv.writer(file, delimiter=',', quotechar='\"', quoting=csv.QUOTE_MINIMAL)\n",
    "    writer.writerow(['time','co2','delay','m1','m2','m3','temp','people'])\n",
    "    for entry in item:\n",
    "        #print (entry['time'])\n",
    "        writer.writerow([entry['time'],entry['Co2 concentration(ppm)'],entry['delay'],entry['microphone1'],entry['microphone2'],entry['microphone3'],entry['temp'],entry['people']])\n",
    "    "
   ]
  },
  {
   "cell_type": "code",
   "execution_count": 115,
   "metadata": {},
   "outputs": [],
   "source": [
    "data = pd.read_csv(\"data.csv\") \n"
   ]
  },
  {
   "cell_type": "code",
   "execution_count": 33,
   "metadata": {},
   "outputs": [
    {
     "data": {
      "text/plain": [
       "0.41446028513238287"
      ]
     },
     "execution_count": 33,
     "metadata": {},
     "output_type": "execute_result"
    }
   ],
   "source": [
    "sum(data['people']>=10)/data['people'].size\n",
    "#data[data['people']>=10]"
   ]
  },
  {
   "cell_type": "code",
   "execution_count": 54,
   "metadata": {},
   "outputs": [
    {
     "name": "stdout",
     "output_type": "stream",
     "text": [
      "928\n",
      "2328\n",
      "2744\n",
      "1856\n",
      "982\n"
     ]
    }
   ],
   "source": [
    "print(data.loc[(data['people']>=15)].size)\n",
    "print(data.loc[(data['people']>=10) & (data['people']<15)].size)\n",
    "print(data.loc[(data['people']>=5) & (data['people']<10)].size)\n",
    "print(data.loc[(data['people']<5) ].size)\n",
    "print(data['time'].size)"
   ]
  },
  {
   "cell_type": "code",
   "execution_count": 7,
   "metadata": {},
   "outputs": [
    {
     "name": "stdout",
     "output_type": "stream",
     "text": [
      "821.9913793103449\n",
      "704.5738831615121\n",
      "629.8600583090379\n",
      "571.2025862068965\n"
     ]
    }
   ],
   "source": [
    "print(data.loc[(data['people']>=15) ]['co2'].mean())\n",
    "print(data.loc[(data['people']>=10) & (data['people']<15)]['co2'].mean())\n",
    "print(data.loc[(data['people']>=5) & (data['people']<10)]['co2'].mean())\n",
    "print(data.loc[(data['people']<5) ]['co2'].mean())"
   ]
  },
  {
   "cell_type": "code",
   "execution_count": 8,
   "metadata": {},
   "outputs": [
    {
     "name": "stdout",
     "output_type": "stream",
     "text": [
      "7.801058374602219\n",
      "7.050691027821544\n",
      "7.087725453057025\n",
      "6.371622455531154\n"
     ]
    }
   ],
   "source": [
    "print(data.loc[(data['people']>=15) ]['delay'].mean())\n",
    "print(data.loc[(data['people']>=10) & (data['people']<15)]['delay'].mean())\n",
    "print(data.loc[(data['people']>=5) & (data['people']<10)]['delay'].mean())\n",
    "print(data.loc[(data['people']<5) ]['delay'].mean())"
   ]
  },
  {
   "cell_type": "code",
   "execution_count": 9,
   "metadata": {},
   "outputs": [
    {
     "name": "stdout",
     "output_type": "stream",
     "text": [
      "138.99137931034483\n",
      "143.51202749140893\n",
      "148.71720116618076\n",
      "152.28879310344828\n",
      "--------\n",
      "142.22358722358723\n",
      "150.15826086956523\n"
     ]
    }
   ],
   "source": [
    "print(data.loc[(data['people']>=15) ]['m1'].mean())\n",
    "print(data.loc[(data['people']>=10) & (data['people']<15)]['m1'].mean())\n",
    "print(data.loc[(data['people']>=5) & (data['people']<10)]['m1'].mean())\n",
    "print(data.loc[(data['people']<5) ]['m1'].mean())\n",
    "print('--------')\n",
    "print(data.loc[(data['people']>=10) ]['m1'].mean())\n",
    "\n",
    "print(data.loc[(data['people']<10) ]['m1'].mean())\n"
   ]
  },
  {
   "cell_type": "code",
   "execution_count": 37,
   "metadata": {},
   "outputs": [
    {
     "data": {
      "image/png": "[encoded data removed]",
      "text/plain": [
       "<Figure size 432x288 with 1 Axes>"
      ]
     },
     "metadata": {
      "needs_background": "light"
     },
     "output_type": "display_data"
    },
    {
     "data": {
      "image/png": "[encoded data removed]",
      "text/plain": [
       "<Figure size 432x288 with 1 Axes>"
      ]
     },
     "metadata": {
      "needs_background": "light"
     },
     "output_type": "display_data"
    },
    {
     "data": {
      "image/png": "[encoded data removed]",
      "text/plain": [
       "<Figure size 432x288 with 1 Axes>"
      ]
     },
     "metadata": {
      "needs_background": "light"
     },
     "output_type": "display_data"
    },
    {
     "data": {
      "image/png": "[encoded data removed]",
      "text/plain": [
       "<Figure size 432x288 with 1 Axes>"
      ]
     },
     "metadata": {
      "needs_background": "light"
     },
     "output_type": "display_data"
    },
    {
     "data": {
      "image/png": "[encoded data removed]",
      "text/plain": [
       "<Figure size 432x288 with 1 Axes>"
      ]
     },
     "metadata": {
      "needs_background": "light"
     },
     "output_type": "display_data"
    }
   ],
   "source": [
    "\n",
    "\n",
    "\n",
    "plt.figure(1)\n",
    "co2p=data.groupby('people').mean()['co2']\n",
    "plt.scatter(data['people'],data['co2'])\n",
    "plt.plot(np.arange(1,23),co2p,'r')\n",
    "plt.ylabel(\"Co2 concentration(ppm)\")\n",
    "plt.xlabel(\"number of people\")\n",
    "plt.figure(2)\n",
    "delp=data.groupby('people').mean()['delay']\n",
    "plt.scatter(data['people'],data['delay'])\n",
    "plt.plot(np.arange(1,23),delp,'r')\n",
    "plt.xlabel(\"number of people\")\n",
    "plt.ylabel(\"network delay(ms)\")\n",
    "plt.ylim((0,12))\n",
    "#plt.yticks(np.arange(0, 10, 1)) \n",
    "plt.figure(3)\n",
    "plt.scatter(data['people'],data['m1'])\n",
    "\n",
    "plt.figure(4)\n",
    "plt.scatter(data['people'],data['m2'])\n",
    "\n",
    "plt.figure(5)\n",
    "plt.scatter(data['people'],data['m3'])\n",
    "\n",
    "\n",
    "plt.show()"
   ]
  },
  {
   "cell_type": "code",
   "execution_count": 38,
   "metadata": {},
   "outputs": [
    {
     "name": "stdout",
     "output_type": "stream",
     "text": [
      "[[  2.08333333  12.        ]\n",
      " [  3.          12.        ]\n",
      " [  2.42857143   7.        ]\n",
      " [  0.           0.        ]\n",
      " [  0.           0.        ]\n",
      " [  0.           0.        ]\n",
      " [  0.           0.        ]\n",
      " [  1.           6.        ]\n",
      " [  2.58333333  12.        ]\n",
      " [  3.72727273  11.        ]\n",
      " [  3.71428571  21.        ]\n",
      " [  3.59090909  44.        ]\n",
      " [  3.74242424  66.        ]\n",
      " [  5.921875    64.        ]\n",
      " [  7.48        75.        ]\n",
      " [ 11.94308943 123.        ]\n",
      " [ 10.31958763  97.        ]\n",
      " [ 13.12987013 154.        ]\n",
      " [  8.96610169 118.        ]\n",
      " [  8.12        75.        ]\n",
      " [  9.1025641   39.        ]\n",
      " [  9.85185185  27.        ]\n",
      " [ 10.09090909  11.        ]\n",
      " [  4.875        8.        ]]\n"
     ]
    },
    {
     "data": {
      "text/plain": [
       "Text(0, 0.5, 'average number of students')"
      ]
     },
     "execution_count": 38,
     "metadata": {},
     "output_type": "execute_result"
    },
    {
     "data": {
      "image/png": "[encoded data removed]",
      "text/plain": [
       "<Figure size 432x288 with 1 Axes>"
      ]
     },
     "metadata": {
      "needs_background": "light"
     },
     "output_type": "display_data"
    }
   ],
   "source": [
    "hour=np.zeros((24,2))\n",
    "for i in range(len(data)):\n",
    "    row=data.loc[i]\n",
    "    hour[int(int(row['time'])%10000/100)][0]+=row['people']\n",
    "    hour[int(row['time']%10000/100)][1]+=1\n",
    "\n",
    "    \n",
    "\n",
    "\n",
    "#print(hour)\n",
    "\n",
    "\n",
    "for i in range(len(hour)):\n",
    "    if hour[i][1]:\n",
    "        hour[i][0]=hour[i][0]/hour[i][1]\n",
    "\n",
    "print(hour)\n",
    "plt.bar(np.linspace(0,23,24),hour[:,0])\n",
    "plt.xlabel('hours after midnight')\n",
    "plt.ylabel('average number of students')"
   ]
  },
  {
   "cell_type": "code",
   "execution_count": 37,
   "metadata": {},
   "outputs": [
    {
     "data": {
      "text/plain": [
       "10.700310559006212"
      ]
     },
     "execution_count": 37,
     "metadata": {},
     "output_type": "execute_result"
    }
   ],
   "source": [
    "sum(hour[15:23,0])/sum(hour[15:23,1])"
   ]
  },
  {
   "cell_type": "code",
   "execution_count": 50,
   "metadata": {},
   "outputs": [
    {
     "data": {
      "text/plain": [
       "[<matplotlib.lines.Line2D at 0x12009c198>]"
      ]
     },
     "execution_count": 50,
     "metadata": {},
     "output_type": "execute_result"
    },
    {
     "data": {
      "image/png": "[encoded data removed]",
      "text/plain": [
       "<Figure size 432x288 with 1 Axes>"
      ]
     },
     "metadata": {
      "needs_background": "light"
     },
     "output_type": "display_data"
    }
   ],
   "source": []
  },
  {
   "cell_type": "code",
   "execution_count": 45,
   "metadata": {},
   "outputs": [
    {
     "data": {
      "text/html": [
       "<div>\n",
       "<style scoped>\n",
       "    .dataframe tbody tr th:only-of-type {\n",
       "        vertical-align: middle;\n",
       "    }\n",
       "\n",
       "    .dataframe tbody tr th {\n",
       "        vertical-align: top;\n",
       "    }\n",
       "\n",
       "    .dataframe thead th {\n",
       "        text-align: right;\n",
       "    }\n",
       "</style>\n",
       "<table border=\"1\" class=\"dataframe\">\n",
       "  <thead>\n",
       "    <tr style=\"text-align: right;\">\n",
       "      <th></th>\n",
       "      <th>time</th>\n",
       "      <th>co2</th>\n",
       "      <th>delay</th>\n",
       "      <th>m1</th>\n",
       "      <th>m2</th>\n",
       "      <th>m3</th>\n",
       "      <th>temp</th>\n",
       "      <th>people</th>\n",
       "    </tr>\n",
       "  </thead>\n",
       "  <tbody>\n",
       "    <tr>\n",
       "      <th>0</th>\n",
       "      <td>201905032031</td>\n",
       "      <td>689</td>\n",
       "      <td>3.437400</td>\n",
       "      <td>108</td>\n",
       "      <td>234</td>\n",
       "      <td>171</td>\n",
       "      <td>19</td>\n",
       "      <td>7</td>\n",
       "    </tr>\n",
       "    <tr>\n",
       "      <th>1</th>\n",
       "      <td>201904222024</td>\n",
       "      <td>785</td>\n",
       "      <td>5.180287</td>\n",
       "      <td>142</td>\n",
       "      <td>206</td>\n",
       "      <td>181</td>\n",
       "      <td>19</td>\n",
       "      <td>16</td>\n",
       "    </tr>\n",
       "    <tr>\n",
       "      <th>2</th>\n",
       "      <td>201904301744</td>\n",
       "      <td>764</td>\n",
       "      <td>4.932189</td>\n",
       "      <td>120</td>\n",
       "      <td>175</td>\n",
       "      <td>194</td>\n",
       "      <td>18</td>\n",
       "      <td>12</td>\n",
       "    </tr>\n",
       "    <tr>\n",
       "      <th>3</th>\n",
       "      <td>201904232058</td>\n",
       "      <td>665</td>\n",
       "      <td>5.651283</td>\n",
       "      <td>140</td>\n",
       "      <td>186</td>\n",
       "      <td>222</td>\n",
       "      <td>20</td>\n",
       "      <td>5</td>\n",
       "    </tr>\n",
       "    <tr>\n",
       "      <th>4</th>\n",
       "      <td>201905011817</td>\n",
       "      <td>874</td>\n",
       "      <td>4.313111</td>\n",
       "      <td>176</td>\n",
       "      <td>139</td>\n",
       "      <td>204</td>\n",
       "      <td>19</td>\n",
       "      <td>13</td>\n",
       "    </tr>\n",
       "  </tbody>\n",
       "</table>\n",
       "</div>"
      ],
      "text/plain": [
       "           time  co2     delay   m1   m2   m3  temp  people\n",
       "0  201905032031  689  3.437400  108  234  171    19       7\n",
       "1  201904222024  785  5.180287  142  206  181    19      16\n",
       "2  201904301744  764  4.932189  120  175  194    18      12\n",
       "3  201904232058  665  5.651283  140  186  222    20       5\n",
       "4  201905011817  874  4.313111  176  139  204    19      13"
      ]
     },
     "execution_count": 45,
     "metadata": {},
     "output_type": "execute_result"
    }
   ],
   "source": [
    "data.head(5)"
   ]
  },
  {
   "cell_type": "code",
   "execution_count": 11,
   "metadata": {},
   "outputs": [],
   "source": [
    "#x=data[['time','co2','delay','m1','m2','m3']]\n",
    "x=data[['time','co2','delay']]\n",
    "y=data['people']>=10\n",
    "\n",
    "\n",
    "x_train, x_test, y_train, y_test = train_test_split(x, y, test_size=0.20)"
   ]
  },
  {
   "cell_type": "code",
   "execution_count": 100,
   "metadata": {},
   "outputs": [
    {
     "name": "stdout",
     "output_type": "stream",
     "text": [
      "0.9075144508670521\n"
     ]
    }
   ],
   "source": [
    "clf = RandomForestClassifier(n_estimators=100, max_depth=10,random_state=0)\n",
    "clf.fit(x_train, y_train)\n",
    "print(clf.score(x_test,y_test))\n",
    "predict=clf.predict(x_test)"
   ]
  },
  {
   "cell_type": "code",
   "execution_count": 59,
   "metadata": {},
   "outputs": [
    {
     "name": "stdout",
     "output_type": "stream",
     "text": [
      "0.8670520231213873\n"
     ]
    }
   ],
   "source": [
    "\n",
    "        \n",
    "print (acc(predict,y_test))"
   ]
  },
  {
   "cell_type": "code",
   "execution_count": 23,
   "metadata": {},
   "outputs": [
    {
     "name": "stdout",
     "output_type": "stream",
     "text": [
      "3.106095538739938\n"
     ]
    }
   ],
   "source": [
    "x=data[['time','co2','delay']]\n",
    "y=data['people']\n",
    "\n",
    "\n",
    "x_train, x_test, y_train, y_test = train_test_split(x, y, test_size=0.20)\n",
    "\n",
    "\n",
    "regr = linear_model.LinearRegression()\n",
    "\n",
    "# Train the model using the training sets\n",
    "regr.fit(x_train,  y_train)\n",
    "\n",
    "# Make predictions using the testing set\n",
    "y_pred = regr.predict(x_test)\n",
    "#y_test=np.array(y_test)\n",
    "print(mean_squared_error(y_test, y_pred)**0.5)"
   ]
  },
  {
   "cell_type": "code",
   "execution_count": 30,
   "metadata": {},
   "outputs": [
    {
     "data": {
      "text/plain": [
       "0      2031\n",
       "1      2024\n",
       "2      1744\n",
       "3      2058\n",
       "4      1817\n",
       "5       945\n",
       "6       126\n",
       "7      1818\n",
       "8      1433\n",
       "9      2103\n",
       "10     1654\n",
       "11     1824\n",
       "12     1922\n",
       "13     2019\n",
       "14     1639\n",
       "15     1516\n",
       "16     1659\n",
       "17     1644\n",
       "18     1556\n",
       "19     1913\n",
       "20     1942\n",
       "21     1547\n",
       "22     1908\n",
       "23     1313\n",
       "24     1447\n",
       "25      919\n",
       "26     1719\n",
       "27     1923\n",
       "28     1813\n",
       "29     1802\n",
       "       ... \n",
       "952    1926\n",
       "953    1719\n",
       "954    1518\n",
       "955      46\n",
       "956    1727\n",
       "957    2200\n",
       "958    1625\n",
       "959    1342\n",
       "960    1516\n",
       "961    1226\n",
       "962    1547\n",
       "963    1059\n",
       "964    1734\n",
       "965    1749\n",
       "966    1842\n",
       "967    2156\n",
       "968    1918\n",
       "969      21\n",
       "970    1928\n",
       "971    1242\n",
       "972    1734\n",
       "973    1607\n",
       "974    2051\n",
       "975    1552\n",
       "976     121\n",
       "977    1639\n",
       "978    1554\n",
       "979    2121\n",
       "980    1938\n",
       "981    1617\n",
       "Name: time, Length: 982, dtype: int64"
      ]
     },
     "execution_count": 30,
     "metadata": {},
     "output_type": "execute_result"
    }
   ],
   "source": [
    "x['time']"
   ]
  },
  {
   "cell_type": "code",
   "execution_count": 29,
   "metadata": {},
   "outputs": [
    {
     "name": "stderr",
     "output_type": "stream",
     "text": [
      "/Library/Frameworks/Python.framework/Versions/3.7/lib/python3.7/site-packages/ipykernel_launcher.py:1: SettingWithCopyWarning: \n",
      "A value is trying to be set on a copy of a slice from a DataFrame.\n",
      "Try using .loc[row_indexer,col_indexer] = value instead\n",
      "\n",
      "See the caveats in the documentation: http://pandas.pydata.org/pandas-docs/stable/indexing.html#indexing-view-versus-copy\n",
      "  \"\"\"Entry point for launching an IPython kernel.\n"
     ]
    }
   ],
   "source": [
    "x['time']=x['time']%10000"
   ]
  },
  {
   "cell_type": "code",
   "execution_count": 32,
   "metadata": {},
   "outputs": [
    {
     "name": "stderr",
     "output_type": "stream",
     "text": [
      "/Library/Frameworks/Python.framework/Versions/3.7/lib/python3.7/site-packages/ipykernel_launcher.py:1: SettingWithCopyWarning: \n",
      "A value is trying to be set on a copy of a slice from a DataFrame.\n",
      "Try using .loc[row_indexer,col_indexer] = value instead\n",
      "\n",
      "See the caveats in the documentation: http://pandas.pydata.org/pandas-docs/stable/indexing.html#indexing-view-versus-copy\n",
      "  \"\"\"Entry point for launching an IPython kernel.\n"
     ]
    }
   ],
   "source": [
    "x['time']=x['time']/100*60+x['time']%100\n"
   ]
  },
  {
   "cell_type": "code",
   "execution_count": 20,
   "metadata": {},
   "outputs": [
    {
     "data": {
      "text/html": [
       "<div>\n",
       "<style scoped>\n",
       "    .dataframe tbody tr th:only-of-type {\n",
       "        vertical-align: middle;\n",
       "    }\n",
       "\n",
       "    .dataframe tbody tr th {\n",
       "        vertical-align: top;\n",
       "    }\n",
       "\n",
       "    .dataframe thead th {\n",
       "        text-align: right;\n",
       "    }\n",
       "</style>\n",
       "<table border=\"1\" class=\"dataframe\">\n",
       "  <thead>\n",
       "    <tr style=\"text-align: right;\">\n",
       "      <th></th>\n",
       "      <th>time</th>\n",
       "      <th>co2</th>\n",
       "      <th>delay</th>\n",
       "    </tr>\n",
       "  </thead>\n",
       "  <tbody>\n",
       "    <tr>\n",
       "      <th>0</th>\n",
       "      <td>1249.6</td>\n",
       "      <td>689</td>\n",
       "      <td>3.437400</td>\n",
       "    </tr>\n",
       "    <tr>\n",
       "      <th>1</th>\n",
       "      <td>1238.4</td>\n",
       "      <td>785</td>\n",
       "      <td>5.180287</td>\n",
       "    </tr>\n",
       "    <tr>\n",
       "      <th>2</th>\n",
       "      <td>1090.4</td>\n",
       "      <td>764</td>\n",
       "      <td>4.932189</td>\n",
       "    </tr>\n",
       "    <tr>\n",
       "      <th>3</th>\n",
       "      <td>1292.8</td>\n",
       "      <td>665</td>\n",
       "      <td>5.651283</td>\n",
       "    </tr>\n",
       "    <tr>\n",
       "      <th>4</th>\n",
       "      <td>1107.2</td>\n",
       "      <td>874</td>\n",
       "      <td>4.313111</td>\n",
       "    </tr>\n",
       "    <tr>\n",
       "      <th>5</th>\n",
       "      <td>612.0</td>\n",
       "      <td>531</td>\n",
       "      <td>13.273454</td>\n",
       "    </tr>\n",
       "    <tr>\n",
       "      <th>6</th>\n",
       "      <td>101.6</td>\n",
       "      <td>542</td>\n",
       "      <td>4.805613</td>\n",
       "    </tr>\n",
       "    <tr>\n",
       "      <th>7</th>\n",
       "      <td>1108.8</td>\n",
       "      <td>868</td>\n",
       "      <td>10.764885</td>\n",
       "    </tr>\n",
       "    <tr>\n",
       "      <th>8</th>\n",
       "      <td>892.8</td>\n",
       "      <td>609</td>\n",
       "      <td>5.349278</td>\n",
       "    </tr>\n",
       "    <tr>\n",
       "      <th>9</th>\n",
       "      <td>1264.8</td>\n",
       "      <td>668</td>\n",
       "      <td>5.136561</td>\n",
       "    </tr>\n",
       "    <tr>\n",
       "      <th>10</th>\n",
       "      <td>1046.4</td>\n",
       "      <td>581</td>\n",
       "      <td>8.027363</td>\n",
       "    </tr>\n",
       "    <tr>\n",
       "      <th>11</th>\n",
       "      <td>1118.4</td>\n",
       "      <td>825</td>\n",
       "      <td>4.359031</td>\n",
       "    </tr>\n",
       "    <tr>\n",
       "      <th>12</th>\n",
       "      <td>1175.2</td>\n",
       "      <td>673</td>\n",
       "      <td>12.463021</td>\n",
       "    </tr>\n",
       "    <tr>\n",
       "      <th>13</th>\n",
       "      <td>1230.4</td>\n",
       "      <td>776</td>\n",
       "      <td>4.395366</td>\n",
       "    </tr>\n",
       "    <tr>\n",
       "      <th>14</th>\n",
       "      <td>1022.4</td>\n",
       "      <td>659</td>\n",
       "      <td>5.190420</td>\n",
       "    </tr>\n",
       "    <tr>\n",
       "      <th>15</th>\n",
       "      <td>925.6</td>\n",
       "      <td>693</td>\n",
       "      <td>5.156064</td>\n",
       "    </tr>\n",
       "    <tr>\n",
       "      <th>16</th>\n",
       "      <td>1054.4</td>\n",
       "      <td>722</td>\n",
       "      <td>4.065084</td>\n",
       "    </tr>\n",
       "    <tr>\n",
       "      <th>17</th>\n",
       "      <td>1030.4</td>\n",
       "      <td>646</td>\n",
       "      <td>5.505991</td>\n",
       "    </tr>\n",
       "    <tr>\n",
       "      <th>18</th>\n",
       "      <td>989.6</td>\n",
       "      <td>783</td>\n",
       "      <td>5.910611</td>\n",
       "    </tr>\n",
       "    <tr>\n",
       "      <th>19</th>\n",
       "      <td>1160.8</td>\n",
       "      <td>614</td>\n",
       "      <td>10.446382</td>\n",
       "    </tr>\n",
       "    <tr>\n",
       "      <th>20</th>\n",
       "      <td>1207.2</td>\n",
       "      <td>746</td>\n",
       "      <td>5.696249</td>\n",
       "    </tr>\n",
       "    <tr>\n",
       "      <th>21</th>\n",
       "      <td>975.2</td>\n",
       "      <td>619</td>\n",
       "      <td>5.372930</td>\n",
       "    </tr>\n",
       "    <tr>\n",
       "      <th>22</th>\n",
       "      <td>1152.8</td>\n",
       "      <td>674</td>\n",
       "      <td>4.062390</td>\n",
       "    </tr>\n",
       "    <tr>\n",
       "      <th>23</th>\n",
       "      <td>800.8</td>\n",
       "      <td>599</td>\n",
       "      <td>3.481913</td>\n",
       "    </tr>\n",
       "    <tr>\n",
       "      <th>24</th>\n",
       "      <td>915.2</td>\n",
       "      <td>576</td>\n",
       "      <td>3.796315</td>\n",
       "    </tr>\n",
       "    <tr>\n",
       "      <th>25</th>\n",
       "      <td>570.4</td>\n",
       "      <td>542</td>\n",
       "      <td>5.385685</td>\n",
       "    </tr>\n",
       "    <tr>\n",
       "      <th>26</th>\n",
       "      <td>1050.4</td>\n",
       "      <td>731</td>\n",
       "      <td>5.279326</td>\n",
       "    </tr>\n",
       "    <tr>\n",
       "      <th>27</th>\n",
       "      <td>1176.8</td>\n",
       "      <td>600</td>\n",
       "      <td>4.513264</td>\n",
       "    </tr>\n",
       "    <tr>\n",
       "      <th>28</th>\n",
       "      <td>1100.8</td>\n",
       "      <td>884</td>\n",
       "      <td>13.742161</td>\n",
       "    </tr>\n",
       "    <tr>\n",
       "      <th>29</th>\n",
       "      <td>1083.2</td>\n",
       "      <td>901</td>\n",
       "      <td>4.556584</td>\n",
       "    </tr>\n",
       "    <tr>\n",
       "      <th>...</th>\n",
       "      <td>...</td>\n",
       "      <td>...</td>\n",
       "      <td>...</td>\n",
       "    </tr>\n",
       "    <tr>\n",
       "      <th>952</th>\n",
       "      <td>1181.6</td>\n",
       "      <td>710</td>\n",
       "      <td>3.862190</td>\n",
       "    </tr>\n",
       "    <tr>\n",
       "      <th>953</th>\n",
       "      <td>1050.4</td>\n",
       "      <td>910</td>\n",
       "      <td>6.869197</td>\n",
       "    </tr>\n",
       "    <tr>\n",
       "      <th>954</th>\n",
       "      <td>928.8</td>\n",
       "      <td>579</td>\n",
       "      <td>4.410529</td>\n",
       "    </tr>\n",
       "    <tr>\n",
       "      <th>955</th>\n",
       "      <td>73.6</td>\n",
       "      <td>545</td>\n",
       "      <td>5.247521</td>\n",
       "    </tr>\n",
       "    <tr>\n",
       "      <th>956</th>\n",
       "      <td>1063.2</td>\n",
       "      <td>725</td>\n",
       "      <td>5.756712</td>\n",
       "    </tr>\n",
       "    <tr>\n",
       "      <th>957</th>\n",
       "      <td>1320.0</td>\n",
       "      <td>774</td>\n",
       "      <td>8.244777</td>\n",
       "    </tr>\n",
       "    <tr>\n",
       "      <th>958</th>\n",
       "      <td>1000.0</td>\n",
       "      <td>625</td>\n",
       "      <td>4.286504</td>\n",
       "    </tr>\n",
       "    <tr>\n",
       "      <th>959</th>\n",
       "      <td>847.2</td>\n",
       "      <td>560</td>\n",
       "      <td>4.238248</td>\n",
       "    </tr>\n",
       "    <tr>\n",
       "      <th>960</th>\n",
       "      <td>925.6</td>\n",
       "      <td>593</td>\n",
       "      <td>5.008674</td>\n",
       "    </tr>\n",
       "    <tr>\n",
       "      <th>961</th>\n",
       "      <td>761.6</td>\n",
       "      <td>574</td>\n",
       "      <td>3.981400</td>\n",
       "    </tr>\n",
       "    <tr>\n",
       "      <th>962</th>\n",
       "      <td>975.2</td>\n",
       "      <td>604</td>\n",
       "      <td>7.329702</td>\n",
       "    </tr>\n",
       "    <tr>\n",
       "      <th>963</th>\n",
       "      <td>694.4</td>\n",
       "      <td>465</td>\n",
       "      <td>6.798124</td>\n",
       "    </tr>\n",
       "    <tr>\n",
       "      <th>964</th>\n",
       "      <td>1074.4</td>\n",
       "      <td>619</td>\n",
       "      <td>6.327486</td>\n",
       "    </tr>\n",
       "    <tr>\n",
       "      <th>965</th>\n",
       "      <td>1098.4</td>\n",
       "      <td>626</td>\n",
       "      <td>7.059717</td>\n",
       "    </tr>\n",
       "    <tr>\n",
       "      <th>966</th>\n",
       "      <td>1147.2</td>\n",
       "      <td>650</td>\n",
       "      <td>21.931863</td>\n",
       "    </tr>\n",
       "    <tr>\n",
       "      <th>967</th>\n",
       "      <td>1349.6</td>\n",
       "      <td>750</td>\n",
       "      <td>3.415036</td>\n",
       "    </tr>\n",
       "    <tr>\n",
       "      <th>968</th>\n",
       "      <td>1168.8</td>\n",
       "      <td>618</td>\n",
       "      <td>3.882313</td>\n",
       "    </tr>\n",
       "    <tr>\n",
       "      <th>969</th>\n",
       "      <td>33.6</td>\n",
       "      <td>551</td>\n",
       "      <td>3.436589</td>\n",
       "    </tr>\n",
       "    <tr>\n",
       "      <th>970</th>\n",
       "      <td>1184.8</td>\n",
       "      <td>672</td>\n",
       "      <td>3.503561</td>\n",
       "    </tr>\n",
       "    <tr>\n",
       "      <th>971</th>\n",
       "      <td>787.2</td>\n",
       "      <td>569</td>\n",
       "      <td>4.315877</td>\n",
       "    </tr>\n",
       "    <tr>\n",
       "      <th>972</th>\n",
       "      <td>1074.4</td>\n",
       "      <td>792</td>\n",
       "      <td>3.946114</td>\n",
       "    </tr>\n",
       "    <tr>\n",
       "      <th>973</th>\n",
       "      <td>971.2</td>\n",
       "      <td>584</td>\n",
       "      <td>3.889084</td>\n",
       "    </tr>\n",
       "    <tr>\n",
       "      <th>974</th>\n",
       "      <td>1281.6</td>\n",
       "      <td>705</td>\n",
       "      <td>4.618382</td>\n",
       "    </tr>\n",
       "    <tr>\n",
       "      <th>975</th>\n",
       "      <td>983.2</td>\n",
       "      <td>727</td>\n",
       "      <td>13.947320</td>\n",
       "    </tr>\n",
       "    <tr>\n",
       "      <th>976</th>\n",
       "      <td>93.6</td>\n",
       "      <td>543</td>\n",
       "      <td>4.724050</td>\n",
       "    </tr>\n",
       "    <tr>\n",
       "      <th>977</th>\n",
       "      <td>1022.4</td>\n",
       "      <td>699</td>\n",
       "      <td>6.806684</td>\n",
       "    </tr>\n",
       "    <tr>\n",
       "      <th>978</th>\n",
       "      <td>986.4</td>\n",
       "      <td>640</td>\n",
       "      <td>4.164696</td>\n",
       "    </tr>\n",
       "    <tr>\n",
       "      <th>979</th>\n",
       "      <td>1293.6</td>\n",
       "      <td>717</td>\n",
       "      <td>6.131101</td>\n",
       "    </tr>\n",
       "    <tr>\n",
       "      <th>980</th>\n",
       "      <td>1200.8</td>\n",
       "      <td>656</td>\n",
       "      <td>3.353572</td>\n",
       "    </tr>\n",
       "    <tr>\n",
       "      <th>981</th>\n",
       "      <td>987.2</td>\n",
       "      <td>569</td>\n",
       "      <td>12.682486</td>\n",
       "    </tr>\n",
       "  </tbody>\n",
       "</table>\n",
       "<p>982 rows × 3 columns</p>\n",
       "</div>"
      ],
      "text/plain": [
       "       time  co2      delay\n",
       "0    1249.6  689   3.437400\n",
       "1    1238.4  785   5.180287\n",
       "2    1090.4  764   4.932189\n",
       "3    1292.8  665   5.651283\n",
       "4    1107.2  874   4.313111\n",
       "5     612.0  531  13.273454\n",
       "6     101.6  542   4.805613\n",
       "7    1108.8  868  10.764885\n",
       "8     892.8  609   5.349278\n",
       "9    1264.8  668   5.136561\n",
       "10   1046.4  581   8.027363\n",
       "11   1118.4  825   4.359031\n",
       "12   1175.2  673  12.463021\n",
       "13   1230.4  776   4.395366\n",
       "14   1022.4  659   5.190420\n",
       "15    925.6  693   5.156064\n",
       "16   1054.4  722   4.065084\n",
       "17   1030.4  646   5.505991\n",
       "18    989.6  783   5.910611\n",
       "19   1160.8  614  10.446382\n",
       "20   1207.2  746   5.696249\n",
       "21    975.2  619   5.372930\n",
       "22   1152.8  674   4.062390\n",
       "23    800.8  599   3.481913\n",
       "24    915.2  576   3.796315\n",
       "25    570.4  542   5.385685\n",
       "26   1050.4  731   5.279326\n",
       "27   1176.8  600   4.513264\n",
       "28   1100.8  884  13.742161\n",
       "29   1083.2  901   4.556584\n",
       "..      ...  ...        ...\n",
       "952  1181.6  710   3.862190\n",
       "953  1050.4  910   6.869197\n",
       "954   928.8  579   4.410529\n",
       "955    73.6  545   5.247521\n",
       "956  1063.2  725   5.756712\n",
       "957  1320.0  774   8.244777\n",
       "958  1000.0  625   4.286504\n",
       "959   847.2  560   4.238248\n",
       "960   925.6  593   5.008674\n",
       "961   761.6  574   3.981400\n",
       "962   975.2  604   7.329702\n",
       "963   694.4  465   6.798124\n",
       "964  1074.4  619   6.327486\n",
       "965  1098.4  626   7.059717\n",
       "966  1147.2  650  21.931863\n",
       "967  1349.6  750   3.415036\n",
       "968  1168.8  618   3.882313\n",
       "969    33.6  551   3.436589\n",
       "970  1184.8  672   3.503561\n",
       "971   787.2  569   4.315877\n",
       "972  1074.4  792   3.946114\n",
       "973   971.2  584   3.889084\n",
       "974  1281.6  705   4.618382\n",
       "975   983.2  727  13.947320\n",
       "976    93.6  543   4.724050\n",
       "977  1022.4  699   6.806684\n",
       "978   986.4  640   4.164696\n",
       "979  1293.6  717   6.131101\n",
       "980  1200.8  656   3.353572\n",
       "981   987.2  569  12.682486\n",
       "\n",
       "[982 rows x 3 columns]"
      ]
     },
     "execution_count": 20,
     "metadata": {},
     "output_type": "execute_result"
    }
   ],
   "source": [
    "x"
   ]
  },
  {
   "cell_type": "code",
   "execution_count": 33,
   "metadata": {},
   "outputs": [
    {
     "name": "stdout",
     "output_type": "stream",
     "text": [
      "3.1508482963271653\n"
     ]
    }
   ],
   "source": [
    "x_train, x_test, y_train, y_test = train_test_split(x, y, test_size=0.20)\n",
    "\n",
    "\n",
    "regr = linear_model.LinearRegression()\n",
    "\n",
    "# Train the model using the training sets\n",
    "regr.fit(x_train,  y_train)\n",
    "\n",
    "# Make predictions using the testing set\n",
    "y_pred = regr.predict(x_test)\n",
    "#y_test=np.array(y_test)\n",
    "print(mean_squared_error(y_test, y_pred)**0.5)"
   ]
  },
  {
   "cell_type": "code",
   "execution_count": 36,
   "metadata": {},
   "outputs": [
    {
     "name": "stdout",
     "output_type": "stream",
     "text": [
      "[12.23835309  5.38878249  5.50384823  3.93723179 17.26777534 10.58117267\n",
      " 11.09620677  6.54753318 12.06168311  7.25757608]\n",
      "630    13\n",
      "236     7\n",
      "961     3\n",
      "846     2\n",
      "739    17\n",
      "585    14\n",
      "771     7\n",
      "896     4\n",
      "828    13\n",
      "99      5\n",
      "Name: people, dtype: int64\n"
     ]
    }
   ],
   "source": [
    "print(y_pred[:10])\n",
    "print(y_test[:10])"
   ]
  },
  {
   "cell_type": "code",
   "execution_count": 51,
   "metadata": {},
   "outputs": [
    {
     "data": {
      "text/plain": [
       "Text(0, 0.5, 'count')"
      ]
     },
     "execution_count": 51,
     "metadata": {},
     "output_type": "execute_result"
    },
    {
     "data": {
      "image/png": "[encoded data removed]",
      "text/plain": [
       "<Figure size 432x288 with 1 Axes>"
      ]
     },
     "metadata": {
      "needs_background": "light"
     },
     "output_type": "display_data"
    }
   ],
   "source": [
    "si=data.groupby('people').size()\n",
    "si=np.array(si)\n",
    "#len(si)\n",
    "plt.bar(np.linspace(1,23,22),si)\n",
    "plt.xlabel('number of people')\n",
    "plt.ylabel('count')"
   ]
  },
  {
   "cell_type": "code",
   "execution_count": 46,
   "metadata": {},
   "outputs": [
    {
     "data": {
      "text/html": [
       "<div>\n",
       "<style scoped>\n",
       "    .dataframe tbody tr th:only-of-type {\n",
       "        vertical-align: middle;\n",
       "    }\n",
       "\n",
       "    .dataframe tbody tr th {\n",
       "        vertical-align: top;\n",
       "    }\n",
       "\n",
       "    .dataframe thead th {\n",
       "        text-align: right;\n",
       "    }\n",
       "</style>\n",
       "<table border=\"1\" class=\"dataframe\">\n",
       "  <thead>\n",
       "    <tr style=\"text-align: right;\">\n",
       "      <th></th>\n",
       "      <th>time</th>\n",
       "      <th>co2</th>\n",
       "      <th>delay</th>\n",
       "      <th>m1</th>\n",
       "      <th>m2</th>\n",
       "      <th>m3</th>\n",
       "      <th>temp</th>\n",
       "      <th>people</th>\n",
       "    </tr>\n",
       "  </thead>\n",
       "  <tbody>\n",
       "    <tr>\n",
       "      <th>0</th>\n",
       "      <td>201905032031</td>\n",
       "      <td>689</td>\n",
       "      <td>3.437400</td>\n",
       "      <td>108</td>\n",
       "      <td>234</td>\n",
       "      <td>171</td>\n",
       "      <td>19</td>\n",
       "      <td>7</td>\n",
       "    </tr>\n",
       "    <tr>\n",
       "      <th>1</th>\n",
       "      <td>201904222024</td>\n",
       "      <td>785</td>\n",
       "      <td>5.180287</td>\n",
       "      <td>142</td>\n",
       "      <td>206</td>\n",
       "      <td>181</td>\n",
       "      <td>19</td>\n",
       "      <td>16</td>\n",
       "    </tr>\n",
       "    <tr>\n",
       "      <th>2</th>\n",
       "      <td>201904301744</td>\n",
       "      <td>764</td>\n",
       "      <td>4.932189</td>\n",
       "      <td>120</td>\n",
       "      <td>175</td>\n",
       "      <td>194</td>\n",
       "      <td>18</td>\n",
       "      <td>12</td>\n",
       "    </tr>\n",
       "    <tr>\n",
       "      <th>3</th>\n",
       "      <td>201904232058</td>\n",
       "      <td>665</td>\n",
       "      <td>5.651283</td>\n",
       "      <td>140</td>\n",
       "      <td>186</td>\n",
       "      <td>222</td>\n",
       "      <td>20</td>\n",
       "      <td>5</td>\n",
       "    </tr>\n",
       "    <tr>\n",
       "      <th>4</th>\n",
       "      <td>201905011817</td>\n",
       "      <td>874</td>\n",
       "      <td>4.313111</td>\n",
       "      <td>176</td>\n",
       "      <td>139</td>\n",
       "      <td>204</td>\n",
       "      <td>19</td>\n",
       "      <td>13</td>\n",
       "    </tr>\n",
       "  </tbody>\n",
       "</table>\n",
       "</div>"
      ],
      "text/plain": [
       "           time  co2     delay   m1   m2   m3  temp  people\n",
       "0  201905032031  689  3.437400  108  234  171    19       7\n",
       "1  201904222024  785  5.180287  142  206  181    19      16\n",
       "2  201904301744  764  4.932189  120  175  194    18      12\n",
       "3  201904232058  665  5.651283  140  186  222    20       5\n",
       "4  201905011817  874  4.313111  176  139  204    19      13"
      ]
     },
     "execution_count": 46,
     "metadata": {},
     "output_type": "execute_result"
    }
   ],
   "source": [
    "data.head(5)\n",
    "\n",
    "\n",
    "\n",
    "\n",
    "\n"
   ]
  },
  {
   "cell_type": "code",
   "execution_count": 61,
   "metadata": {},
   "outputs": [],
   "source": [
    "data['time']=data['time']%10000\n",
    "data['time']=data['time']/100*60+data['time']%100"
   ]
  },
  {
   "cell_type": "code",
   "execution_count": 49,
   "metadata": {},
   "outputs": [
    {
     "data": {
      "text/html": [
       "<div>\n",
       "<style scoped>\n",
       "    .dataframe tbody tr th:only-of-type {\n",
       "        vertical-align: middle;\n",
       "    }\n",
       "\n",
       "    .dataframe tbody tr th {\n",
       "        vertical-align: top;\n",
       "    }\n",
       "\n",
       "    .dataframe thead th {\n",
       "        text-align: right;\n",
       "    }\n",
       "</style>\n",
       "<table border=\"1\" class=\"dataframe\">\n",
       "  <thead>\n",
       "    <tr style=\"text-align: right;\">\n",
       "      <th></th>\n",
       "      <th>time</th>\n",
       "      <th>co2</th>\n",
       "      <th>delay</th>\n",
       "      <th>m1</th>\n",
       "      <th>m2</th>\n",
       "      <th>m3</th>\n",
       "      <th>temp</th>\n",
       "      <th>people</th>\n",
       "    </tr>\n",
       "  </thead>\n",
       "  <tbody>\n",
       "    <tr>\n",
       "      <th>0</th>\n",
       "      <td>229.6</td>\n",
       "      <td>689</td>\n",
       "      <td>3.437400</td>\n",
       "      <td>108</td>\n",
       "      <td>234</td>\n",
       "      <td>171</td>\n",
       "      <td>19</td>\n",
       "      <td>7</td>\n",
       "    </tr>\n",
       "    <tr>\n",
       "      <th>1</th>\n",
       "      <td>218.4</td>\n",
       "      <td>785</td>\n",
       "      <td>5.180287</td>\n",
       "      <td>142</td>\n",
       "      <td>206</td>\n",
       "      <td>181</td>\n",
       "      <td>19</td>\n",
       "      <td>16</td>\n",
       "    </tr>\n",
       "    <tr>\n",
       "      <th>2</th>\n",
       "      <td>70.4</td>\n",
       "      <td>764</td>\n",
       "      <td>4.932189</td>\n",
       "      <td>120</td>\n",
       "      <td>175</td>\n",
       "      <td>194</td>\n",
       "      <td>18</td>\n",
       "      <td>12</td>\n",
       "    </tr>\n",
       "    <tr>\n",
       "      <th>3</th>\n",
       "      <td>272.8</td>\n",
       "      <td>665</td>\n",
       "      <td>5.651283</td>\n",
       "      <td>140</td>\n",
       "      <td>186</td>\n",
       "      <td>222</td>\n",
       "      <td>20</td>\n",
       "      <td>5</td>\n",
       "    </tr>\n",
       "    <tr>\n",
       "      <th>4</th>\n",
       "      <td>87.2</td>\n",
       "      <td>874</td>\n",
       "      <td>4.313111</td>\n",
       "      <td>176</td>\n",
       "      <td>139</td>\n",
       "      <td>204</td>\n",
       "      <td>19</td>\n",
       "      <td>13</td>\n",
       "    </tr>\n",
       "  </tbody>\n",
       "</table>\n",
       "</div>"
      ],
      "text/plain": [
       "    time  co2     delay   m1   m2   m3  temp  people\n",
       "0  229.6  689  3.437400  108  234  171    19       7\n",
       "1  218.4  785  5.180287  142  206  181    19      16\n",
       "2   70.4  764  4.932189  120  175  194    18      12\n",
       "3  272.8  665  5.651283  140  186  222    20       5\n",
       "4   87.2  874  4.313111  176  139  204    19      13"
      ]
     },
     "execution_count": 49,
     "metadata": {},
     "output_type": "execute_result"
    }
   ],
   "source": [
    "data['time']=abs(data['time']-17*60)\n",
    "\n",
    "\n",
    "data.head(5)"
   ]
  },
  {
   "cell_type": "code",
   "execution_count": 69,
   "metadata": {},
   "outputs": [
    {
     "data": {
      "text/html": [
       "<div>\n",
       "<style scoped>\n",
       "    .dataframe tbody tr th:only-of-type {\n",
       "        vertical-align: middle;\n",
       "    }\n",
       "\n",
       "    .dataframe tbody tr th {\n",
       "        vertical-align: top;\n",
       "    }\n",
       "\n",
       "    .dataframe thead th {\n",
       "        text-align: right;\n",
       "    }\n",
       "</style>\n",
       "<table border=\"1\" class=\"dataframe\">\n",
       "  <thead>\n",
       "    <tr style=\"text-align: right;\">\n",
       "      <th></th>\n",
       "      <th>time</th>\n",
       "      <th>co2</th>\n",
       "      <th>delay</th>\n",
       "      <th>m1</th>\n",
       "      <th>m2</th>\n",
       "      <th>m3</th>\n",
       "      <th>temp</th>\n",
       "      <th>people</th>\n",
       "    </tr>\n",
       "  </thead>\n",
       "  <tbody>\n",
       "    <tr>\n",
       "      <th>0</th>\n",
       "      <td>1.356156</td>\n",
       "      <td>0.266251</td>\n",
       "      <td>-0.657858</td>\n",
       "      <td>-1.031610</td>\n",
       "      <td>1.503371</td>\n",
       "      <td>-0.323522</td>\n",
       "      <td>0.522399</td>\n",
       "      <td>7</td>\n",
       "    </tr>\n",
       "    <tr>\n",
       "      <th>1</th>\n",
       "      <td>-0.828915</td>\n",
       "      <td>1.173864</td>\n",
       "      <td>-0.335283</td>\n",
       "      <td>-0.129242</td>\n",
       "      <td>0.877995</td>\n",
       "      <td>-0.098300</td>\n",
       "      <td>0.522399</td>\n",
       "      <td>16</td>\n",
       "    </tr>\n",
       "    <tr>\n",
       "      <th>2</th>\n",
       "      <td>-0.613863</td>\n",
       "      <td>0.975324</td>\n",
       "      <td>-0.381201</td>\n",
       "      <td>-0.713127</td>\n",
       "      <td>0.185616</td>\n",
       "      <td>0.194490</td>\n",
       "      <td>-0.417154</td>\n",
       "      <td>12</td>\n",
       "    </tr>\n",
       "    <tr>\n",
       "      <th>3</th>\n",
       "      <td>-0.801848</td>\n",
       "      <td>0.039348</td>\n",
       "      <td>-0.248110</td>\n",
       "      <td>-0.182322</td>\n",
       "      <td>0.431299</td>\n",
       "      <td>0.825113</td>\n",
       "      <td>1.461953</td>\n",
       "      <td>5</td>\n",
       "    </tr>\n",
       "    <tr>\n",
       "      <th>4</th>\n",
       "      <td>1.301626</td>\n",
       "      <td>2.015297</td>\n",
       "      <td>-0.495780</td>\n",
       "      <td>0.773126</td>\n",
       "      <td>-0.618438</td>\n",
       "      <td>0.419712</td>\n",
       "      <td>0.522399</td>\n",
       "      <td>13</td>\n",
       "    </tr>\n",
       "  </tbody>\n",
       "</table>\n",
       "</div>"
      ],
      "text/plain": [
       "       time       co2     delay        m1        m2        m3      temp  \\\n",
       "0  1.356156  0.266251 -0.657858 -1.031610  1.503371 -0.323522  0.522399   \n",
       "1 -0.828915  1.173864 -0.335283 -0.129242  0.877995 -0.098300  0.522399   \n",
       "2 -0.613863  0.975324 -0.381201 -0.713127  0.185616  0.194490 -0.417154   \n",
       "3 -0.801848  0.039348 -0.248110 -0.182322  0.431299  0.825113  1.461953   \n",
       "4  1.301626  2.015297 -0.495780  0.773126 -0.618438  0.419712  0.522399   \n",
       "\n",
       "   people  \n",
       "0       7  \n",
       "1      16  \n",
       "2      12  \n",
       "3       5  \n",
       "4      13  "
      ]
     },
     "execution_count": 69,
     "metadata": {},
     "output_type": "execute_result"
    }
   ],
   "source": [
    "norma(data)\n",
    "data.head(5)"
   ]
  },
  {
   "cell_type": "code",
   "execution_count": 77,
   "metadata": {},
   "outputs": [
    {
     "name": "stdout",
     "output_type": "stream",
     "text": [
      "8.660164621132372\n",
      "2.4017691807028645\n",
      "[ 0.03984801  3.47505378  0.30646952 -0.09028706 -0.48759714 -0.3647337\n",
      "  0.01089843]\n"
     ]
    }
   ],
   "source": [
    "data['time']=data['time']%10000\n",
    "data['time']=data['time']/100*60+data['time']%100\n",
    "norma(data)\n",
    "x=data[['time','co2','delay','m1','m2','m3','temp']]\n",
    "y=data['people']\n",
    "\n",
    "\n",
    "x_train, x_test, y_train, y_test = train_test_split(x, y, test_size=0.20)\n",
    "\n",
    "\n",
    "regr = linear_model.LinearRegression()\n",
    "\n",
    "# Train the model using the training sets\n",
    "regr.fit(x_train,  y_train)\n",
    "\n",
    "# Make predictions using the testing set\n",
    "y_pred = regr.predict(x_test)\n",
    "#y_test=np.array(y_test)\n",
    "print(mean_squared_error(y_test, y_pred))\n",
    "print(mean_absolute_error(y_test, y_pred))\n",
    "print(regr.coef_)"
   ]
  },
  {
   "cell_type": "code",
   "execution_count": 95,
   "metadata": {},
   "outputs": [
    {
     "name": "stdout",
     "output_type": "stream",
     "text": [
      "7.403056520722226\n",
      "2.1738076167855485\n",
      "[1.11838544 3.02500149 0.26806054]\n"
     ]
    }
   ],
   "source": [
    "data['time']=data['time']%10000\n",
    "data['time']=data['time']/100*60+data['time']%100\n",
    "data['time']=abs(data['time']-17*60)\n",
    "norma(data)\n",
    "x=data[['time','co2','delay']]\n",
    "y=data['people']\n",
    "\n",
    "\n",
    "x_train, x_test, y_train, y_test = train_test_split(x, y, test_size=0.20)\n",
    "\n",
    "\n",
    "regr = linear_model.LinearRegression()\n",
    "\n",
    "# Train the model using the training sets\n",
    "regr.fit(x_train,  y_train)\n",
    "\n",
    "# Make predictions using the testing set\n",
    "y_pred = regr.predict(x_test)\n",
    "#y_test=np.array(y_test)\n",
    "print(mean_squared_error(y_test, y_pred))\n",
    "print(mean_absolute_error(y_test, y_pred))\n",
    "print(regr.coef_)"
   ]
  },
  {
   "cell_type": "code",
   "execution_count": 161,
   "metadata": {},
   "outputs": [],
   "source": [
    "\n",
    "\n",
    "data['time']=data['time']%10000\n",
    "data['time']=data['time']/100*60+data['time']%100\n",
    "data['time']=abs(data['time']-17*60)\n",
    "\n",
    "#norma(data)\n",
    "x=data[['time','co2','delay']]\n",
    "y=data['people']>=10\n",
    "x_train, x_test, y_train, y_test = train_test_split(x, y, test_size=0.20)\n",
    "\n",
    "\n",
    "\n",
    "#predict=clf.predict(x_test)"
   ]
  },
  {
   "cell_type": "code",
   "execution_count": 136,
   "metadata": {},
   "outputs": [
    {
     "name": "stdout",
     "output_type": "stream",
     "text": [
      "0.8984771573604061\n"
     ]
    }
   ],
   "source": [
    "ma=0\n",
    "\n",
    "for i in range(1,302,10):\n",
    "    for j in range(1,60):\n",
    "        clf = RandomForestClassifier(n_estimators=i, max_depth=j,random_state=0)\n",
    "        clf.fit(x_train, y_train)\n",
    "        if clf.score(x_test,y_test)>ma:\n",
    "            ma=clf.score(x_test,y_test)\n",
    "            mi=i\n",
    "            mj=j\n",
    "print(ma)"
   ]
  },
  {
   "cell_type": "code",
   "execution_count": 138,
   "metadata": {},
   "outputs": [
    {
     "name": "stdout",
     "output_type": "stream",
     "text": [
      "0.8984771573604061\n",
      "0.8333333333333333\n"
     ]
    }
   ],
   "source": [
    "clf = RandomForestClassifier(n_estimators=mi, max_depth=mj,random_state=0)\n",
    "clf.fit(x_train, y_train)\n",
    "print(clf.score(x_test,y_test))\n",
    "predict=clf.predict(x_test)\n",
    "print(f1_score(predict,y_test))"
   ]
  },
  {
   "cell_type": "code",
   "execution_count": 153,
   "metadata": {},
   "outputs": [
    {
     "name": "stdout",
     "output_type": "stream",
     "text": [
      "0.7715736040609137\n",
      "0.7019867549668874\n"
     ]
    }
   ],
   "source": [
    "clf = LogisticRegression( solver='liblinear')\n",
    "clf.fit(x_train, y_train)\n",
    "print(clf.score(x_test,y_test))\n",
    "predict=clf.predict(x_test)\n",
    "print(f1_score(predict,y_test))"
   ]
  },
  {
   "cell_type": "code",
   "execution_count": 162,
   "metadata": {},
   "outputs": [
    {
     "name": "stdout",
     "output_type": "stream",
     "text": [
      "0.751269035532995\n",
      "0.6711409395973154\n"
     ]
    }
   ],
   "source": [
    "gnb = GaussianNB()\n",
    "gnb.fit(x_train, y_train)\n",
    "print(gnb.score(x_test,y_test))\n",
    "predict=gnb.predict(x_test)\n",
    "print(f1_score(predict,y_test))"
   ]
  },
  {
   "cell_type": "code",
   "execution_count": null,
   "metadata": {},
   "outputs": [],
   "source": []
  }
 ],
 "metadata": {
  "kernelspec": {
   "display_name": "Python 3",
   "language": "python",
   "name": "python3"
  },
  "language_info": {
   "codemirror_mode": {
    "name": "ipython",
    "version": 3
   },
   "file_extension": ".py",
   "mimetype": "text/x-python",
   "name": "python",
   "nbconvert_exporter": "python",
   "pygments_lexer": "ipython3",
   "version": "3.7.2"
  }
 },
 "nbformat": 4,
 "nbformat_minor": 2
}
